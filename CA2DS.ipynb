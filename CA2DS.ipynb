{
  "nbformat": 4,
  "nbformat_minor": 0,
  "metadata": {
    "colab": {
      "name": "CA2DS.ipynb",
      "provenance": [],
      "collapsed_sections": [],
      "mount_file_id": "1EX0Vw2DgEf4AGpUcrD9jgXuuK8uVoTpT",
      "authorship_tag": "ABX9TyMcKCioLQaEM0IINw/BP75P",
      "include_colab_link": true
    },
    "kernelspec": {
      "name": "python3",
      "display_name": "Python 3"
    },
    "language_info": {
      "name": "python"
    }
  },
  "cells": [
    {
      "cell_type": "markdown",
      "metadata": {
        "id": "view-in-github",
        "colab_type": "text"
      },
      "source": [
        "<a href=\"https://colab.research.google.com/github/sidd272002/EDA-on-Zomato-Bangalore-Restaurant-Dataset/blob/main/CA2DS.ipynb\" target=\"_parent\"><img src=\"https://colab.research.google.com/assets/colab-badge.svg\" alt=\"Open In Colab\"/></a>"
      ]
    },
    {
      "cell_type": "markdown",
      "source": [
        "# CONTINUOUS ASSESSMENT 2\n",
        "**NAME** : SIDDHI A. NIVALE\n",
        "\n",
        "**CLASS** : SYCS - A ROLL NO : 6572 \n",
        "\n",
        "**SUB** : DATA SCIENCE\n",
        "\n",
        "**UNDER** **GUIDANCE** **OF** : SANJANA BHANGALE\n",
        "\n",
        "**TOPIC** : EDA ON ZOMATO BANGALORE RESTAURANTS\n",
        "\n",
        "\n",
        "---\n",
        "\n"
      ],
      "metadata": {
        "id": "bMNDz6lCAbbG"
      }
    },
    {
      "cell_type": "markdown",
      "source": [
        "*Exploratory Data Analysis(EDA) is a method of uncovering important relationships between the variables by using Graphs, plots, and tables.*\n",
        "\n",
        "*It is a very useful technique especially when you are working with the large unknown dataset. It allows you to investigate the interesting relationships between the variables, study the different subsets of data to unlock the different patterns in the data.*\n",
        "\n",
        "\n",
        "\n",
        "\n",
        "\n"
      ],
      "metadata": {
        "id": "rr7YO8H6_n5t"
      }
    },
    {
      "cell_type": "markdown",
      "source": [
        "# **ABOUT** **DATASET**"
      ],
      "metadata": {
        "id": "Xja3c-BTQ6SE"
      }
    },
    {
      "cell_type": "markdown",
      "source": [
        "Bangalore city is the largest IT hub of India and so most of the people here depend on restaurant foods.Zomato is an Indian restaurant search and discovery service founded in 2008 by Deepinder Goyal and Pankaj Chaddah. It currently operates in 24 countries. The dataset provides general information like Location, Ratings, Cuisine, Cost etc. of more than 50,000 restaurants in Bangalore which can help in analyzing the various factors that influence the popularity of the restaurants."
      ],
      "metadata": {
        "id": "eS1F6F2sRAjb"
      }
    },
    {
      "cell_type": "code",
      "source": [
        "from google.colab import drive\n",
        "drive.mount('/content/drive')"
      ],
      "metadata": {
        "id": "pFAHLOCF-7w8",
        "colab": {
          "base_uri": "https://localhost:8080/"
        },
        "outputId": "4789f60b-da74-4d9d-d52d-f6517ee4ca90"
      },
      "execution_count": null,
      "outputs": [
        {
          "output_type": "stream",
          "name": "stdout",
          "text": [
            "Drive already mounted at /content/drive; to attempt to forcibly remount, call drive.mount(\"/content/drive\", force_remount=True).\n"
          ]
        }
      ]
    },
    {
      "cell_type": "markdown",
      "source": [
        "### IMPORTING REQUIRED LIBRARIES"
      ],
      "metadata": {
        "id": "cBJdNbGTExXq"
      }
    },
    {
      "cell_type": "code",
      "source": [
        "#import the libraries\n",
        "import matplotlib.pyplot as plt\n",
        "import numpy as np\n",
        "import seaborn as sns\n",
        "import pandas as pd\n",
        "import warnings\n",
        "warnings.filterwarnings(\"ignore\")"
      ],
      "metadata": {
        "id": "la0K-FFCFdPM"
      },
      "execution_count": null,
      "outputs": []
    },
    {
      "cell_type": "markdown",
      "source": [
        "### READING THE DATA"
      ],
      "metadata": {
        "id": "8JzwEGTxGIMz"
      }
    },
    {
      "cell_type": "code",
      "source": [
        "df = pd.read_csv(\"/content/drive/MyDrive/zomato.csv\")\n",
        "df.head()\n"
      ],
      "metadata": {
        "id": "rXWrGBwzGNmj",
        "colab": {
          "base_uri": "https://localhost:8080/",
          "height": 652
        },
        "outputId": "128d07d5-38b4-47ef-b540-d8bf722dc0d9"
      },
      "execution_count": null,
      "outputs": [
        {
          "output_type": "execute_result",
          "data": {
            "text/html": [
              "\n",
              "  <div id=\"df-f8c0c50c-c844-4bd8-8f4e-1f12d607b233\">\n",
              "    <div class=\"colab-df-container\">\n",
              "      <div>\n",
              "<style scoped>\n",
              "    .dataframe tbody tr th:only-of-type {\n",
              "        vertical-align: middle;\n",
              "    }\n",
              "\n",
              "    .dataframe tbody tr th {\n",
              "        vertical-align: top;\n",
              "    }\n",
              "\n",
              "    .dataframe thead th {\n",
              "        text-align: right;\n",
              "    }\n",
              "</style>\n",
              "<table border=\"1\" class=\"dataframe\">\n",
              "  <thead>\n",
              "    <tr style=\"text-align: right;\">\n",
              "      <th></th>\n",
              "      <th>url</th>\n",
              "      <th>address</th>\n",
              "      <th>name</th>\n",
              "      <th>online_order</th>\n",
              "      <th>book_table</th>\n",
              "      <th>rate</th>\n",
              "      <th>votes</th>\n",
              "      <th>phone</th>\n",
              "      <th>location</th>\n",
              "      <th>rest_type</th>\n",
              "      <th>dish_liked</th>\n",
              "      <th>cuisines</th>\n",
              "      <th>approx_cost(for two people)</th>\n",
              "      <th>reviews_list</th>\n",
              "      <th>menu_item</th>\n",
              "      <th>listed_in(type)</th>\n",
              "      <th>listed_in(city)</th>\n",
              "    </tr>\n",
              "  </thead>\n",
              "  <tbody>\n",
              "    <tr>\n",
              "      <th>0</th>\n",
              "      <td>https://www.zomato.com/bangalore/jalsa-banasha...</td>\n",
              "      <td>942, 21st Main Road, 2nd Stage, Banashankari, ...</td>\n",
              "      <td>Jalsa</td>\n",
              "      <td>Yes</td>\n",
              "      <td>Yes</td>\n",
              "      <td>4.1/5</td>\n",
              "      <td>775</td>\n",
              "      <td>080 42297555\\r\\n+91 9743772233</td>\n",
              "      <td>Banashankari</td>\n",
              "      <td>Casual Dining</td>\n",
              "      <td>Pasta, Lunch Buffet, Masala Papad, Paneer Laja...</td>\n",
              "      <td>North Indian, Mughlai, Chinese</td>\n",
              "      <td>800</td>\n",
              "      <td>[('Rated 4.0', 'RATED\\n  A beautiful place to ...</td>\n",
              "      <td>[]</td>\n",
              "      <td>Buffet</td>\n",
              "      <td>Banashankari</td>\n",
              "    </tr>\n",
              "    <tr>\n",
              "      <th>1</th>\n",
              "      <td>https://www.zomato.com/bangalore/spice-elephan...</td>\n",
              "      <td>2nd Floor, 80 Feet Road, Near Big Bazaar, 6th ...</td>\n",
              "      <td>Spice Elephant</td>\n",
              "      <td>Yes</td>\n",
              "      <td>No</td>\n",
              "      <td>4.1/5</td>\n",
              "      <td>787</td>\n",
              "      <td>080 41714161</td>\n",
              "      <td>Banashankari</td>\n",
              "      <td>Casual Dining</td>\n",
              "      <td>Momos, Lunch Buffet, Chocolate Nirvana, Thai G...</td>\n",
              "      <td>Chinese, North Indian, Thai</td>\n",
              "      <td>800</td>\n",
              "      <td>[('Rated 4.0', 'RATED\\n  Had been here for din...</td>\n",
              "      <td>[]</td>\n",
              "      <td>Buffet</td>\n",
              "      <td>Banashankari</td>\n",
              "    </tr>\n",
              "    <tr>\n",
              "      <th>2</th>\n",
              "      <td>https://www.zomato.com/SanchurroBangalore?cont...</td>\n",
              "      <td>1112, Next to KIMS Medical College, 17th Cross...</td>\n",
              "      <td>San Churro Cafe</td>\n",
              "      <td>Yes</td>\n",
              "      <td>No</td>\n",
              "      <td>3.8/5</td>\n",
              "      <td>918</td>\n",
              "      <td>+91 9663487993</td>\n",
              "      <td>Banashankari</td>\n",
              "      <td>Cafe, Casual Dining</td>\n",
              "      <td>Churros, Cannelloni, Minestrone Soup, Hot Choc...</td>\n",
              "      <td>Cafe, Mexican, Italian</td>\n",
              "      <td>800</td>\n",
              "      <td>[('Rated 3.0', \"RATED\\n  Ambience is not that ...</td>\n",
              "      <td>[]</td>\n",
              "      <td>Buffet</td>\n",
              "      <td>Banashankari</td>\n",
              "    </tr>\n",
              "    <tr>\n",
              "      <th>3</th>\n",
              "      <td>https://www.zomato.com/bangalore/addhuri-udupi...</td>\n",
              "      <td>1st Floor, Annakuteera, 3rd Stage, Banashankar...</td>\n",
              "      <td>Addhuri Udupi Bhojana</td>\n",
              "      <td>No</td>\n",
              "      <td>No</td>\n",
              "      <td>3.7/5</td>\n",
              "      <td>88</td>\n",
              "      <td>+91 9620009302</td>\n",
              "      <td>Banashankari</td>\n",
              "      <td>Quick Bites</td>\n",
              "      <td>Masala Dosa</td>\n",
              "      <td>South Indian, North Indian</td>\n",
              "      <td>300</td>\n",
              "      <td>[('Rated 4.0', \"RATED\\n  Great food and proper...</td>\n",
              "      <td>[]</td>\n",
              "      <td>Buffet</td>\n",
              "      <td>Banashankari</td>\n",
              "    </tr>\n",
              "    <tr>\n",
              "      <th>4</th>\n",
              "      <td>https://www.zomato.com/bangalore/grand-village...</td>\n",
              "      <td>10, 3rd Floor, Lakshmi Associates, Gandhi Baza...</td>\n",
              "      <td>Grand Village</td>\n",
              "      <td>No</td>\n",
              "      <td>No</td>\n",
              "      <td>3.8/5</td>\n",
              "      <td>166</td>\n",
              "      <td>+91 8026612447\\r\\n+91 9901210005</td>\n",
              "      <td>Basavanagudi</td>\n",
              "      <td>Casual Dining</td>\n",
              "      <td>Panipuri, Gol Gappe</td>\n",
              "      <td>North Indian, Rajasthani</td>\n",
              "      <td>600</td>\n",
              "      <td>[('Rated 4.0', 'RATED\\n  Very good restaurant ...</td>\n",
              "      <td>[]</td>\n",
              "      <td>Buffet</td>\n",
              "      <td>Banashankari</td>\n",
              "    </tr>\n",
              "  </tbody>\n",
              "</table>\n",
              "</div>\n",
              "      <button class=\"colab-df-convert\" onclick=\"convertToInteractive('df-f8c0c50c-c844-4bd8-8f4e-1f12d607b233')\"\n",
              "              title=\"Convert this dataframe to an interactive table.\"\n",
              "              style=\"display:none;\">\n",
              "        \n",
              "  <svg xmlns=\"http://www.w3.org/2000/svg\" height=\"24px\"viewBox=\"0 0 24 24\"\n",
              "       width=\"24px\">\n",
              "    <path d=\"M0 0h24v24H0V0z\" fill=\"none\"/>\n",
              "    <path d=\"M18.56 5.44l.94 2.06.94-2.06 2.06-.94-2.06-.94-.94-2.06-.94 2.06-2.06.94zm-11 1L8.5 8.5l.94-2.06 2.06-.94-2.06-.94L8.5 2.5l-.94 2.06-2.06.94zm10 10l.94 2.06.94-2.06 2.06-.94-2.06-.94-.94-2.06-.94 2.06-2.06.94z\"/><path d=\"M17.41 7.96l-1.37-1.37c-.4-.4-.92-.59-1.43-.59-.52 0-1.04.2-1.43.59L10.3 9.45l-7.72 7.72c-.78.78-.78 2.05 0 2.83L4 21.41c.39.39.9.59 1.41.59.51 0 1.02-.2 1.41-.59l7.78-7.78 2.81-2.81c.8-.78.8-2.07 0-2.86zM5.41 20L4 18.59l7.72-7.72 1.47 1.35L5.41 20z\"/>\n",
              "  </svg>\n",
              "      </button>\n",
              "      \n",
              "  <style>\n",
              "    .colab-df-container {\n",
              "      display:flex;\n",
              "      flex-wrap:wrap;\n",
              "      gap: 12px;\n",
              "    }\n",
              "\n",
              "    .colab-df-convert {\n",
              "      background-color: #E8F0FE;\n",
              "      border: none;\n",
              "      border-radius: 50%;\n",
              "      cursor: pointer;\n",
              "      display: none;\n",
              "      fill: #1967D2;\n",
              "      height: 32px;\n",
              "      padding: 0 0 0 0;\n",
              "      width: 32px;\n",
              "    }\n",
              "\n",
              "    .colab-df-convert:hover {\n",
              "      background-color: #E2EBFA;\n",
              "      box-shadow: 0px 1px 2px rgba(60, 64, 67, 0.3), 0px 1px 3px 1px rgba(60, 64, 67, 0.15);\n",
              "      fill: #174EA6;\n",
              "    }\n",
              "\n",
              "    [theme=dark] .colab-df-convert {\n",
              "      background-color: #3B4455;\n",
              "      fill: #D2E3FC;\n",
              "    }\n",
              "\n",
              "    [theme=dark] .colab-df-convert:hover {\n",
              "      background-color: #434B5C;\n",
              "      box-shadow: 0px 1px 3px 1px rgba(0, 0, 0, 0.15);\n",
              "      filter: drop-shadow(0px 1px 2px rgba(0, 0, 0, 0.3));\n",
              "      fill: #FFFFFF;\n",
              "    }\n",
              "  </style>\n",
              "\n",
              "      <script>\n",
              "        const buttonEl =\n",
              "          document.querySelector('#df-f8c0c50c-c844-4bd8-8f4e-1f12d607b233 button.colab-df-convert');\n",
              "        buttonEl.style.display =\n",
              "          google.colab.kernel.accessAllowed ? 'block' : 'none';\n",
              "\n",
              "        async function convertToInteractive(key) {\n",
              "          const element = document.querySelector('#df-f8c0c50c-c844-4bd8-8f4e-1f12d607b233');\n",
              "          const dataTable =\n",
              "            await google.colab.kernel.invokeFunction('convertToInteractive',\n",
              "                                                     [key], {});\n",
              "          if (!dataTable) return;\n",
              "\n",
              "          const docLinkHtml = 'Like what you see? Visit the ' +\n",
              "            '<a target=\"_blank\" href=https://colab.research.google.com/notebooks/data_table.ipynb>data table notebook</a>'\n",
              "            + ' to learn more about interactive tables.';\n",
              "          element.innerHTML = '';\n",
              "          dataTable['output_type'] = 'display_data';\n",
              "          await google.colab.output.renderOutput(dataTable, element);\n",
              "          const docLink = document.createElement('div');\n",
              "          docLink.innerHTML = docLinkHtml;\n",
              "          element.appendChild(docLink);\n",
              "        }\n",
              "      </script>\n",
              "    </div>\n",
              "  </div>\n",
              "  "
            ],
            "text/plain": [
              "                                                 url  ... listed_in(city)\n",
              "0  https://www.zomato.com/bangalore/jalsa-banasha...  ...    Banashankari\n",
              "1  https://www.zomato.com/bangalore/spice-elephan...  ...    Banashankari\n",
              "2  https://www.zomato.com/SanchurroBangalore?cont...  ...    Banashankari\n",
              "3  https://www.zomato.com/bangalore/addhuri-udupi...  ...    Banashankari\n",
              "4  https://www.zomato.com/bangalore/grand-village...  ...    Banashankari\n",
              "\n",
              "[5 rows x 17 columns]"
            ]
          },
          "metadata": {},
          "execution_count": 4
        }
      ]
    },
    {
      "cell_type": "markdown",
      "source": [
        "### UNDERSTANDING THE DATASET"
      ],
      "metadata": {
        "id": "SZr6RjhTE884"
      }
    },
    {
      "cell_type": "markdown",
      "source": [
        "we will start with basic data understanding by describing the data ,their structure & by checking the data types of the columns in which we are interested to work with.\n",
        "\n",
        "Here,\n",
        "Pandas .**size**, .**shape** and .**ndim** .**columns** .**dtypes** are used to return size, shape ,dimensions ,column names and their data types  of our dataset."
      ],
      "metadata": {
        "id": "zbUzCYCsQ2XB"
      }
    },
    {
      "cell_type": "code",
      "source": [
        "df.shape"
      ],
      "metadata": {
        "id": "PoZ578XcHb-S",
        "colab": {
          "base_uri": "https://localhost:8080/"
        },
        "outputId": "5ce255fc-badd-4eed-8bcd-0e473b09278d"
      },
      "execution_count": null,
      "outputs": [
        {
          "output_type": "execute_result",
          "data": {
            "text/plain": [
              "(51717, 17)"
            ]
          },
          "metadata": {},
          "execution_count": 5
        }
      ]
    },
    {
      "cell_type": "code",
      "source": [
        "df.size"
      ],
      "metadata": {
        "id": "8oU1TLTIN2Vo",
        "colab": {
          "base_uri": "https://localhost:8080/"
        },
        "outputId": "0374ec6c-f28a-4fe3-980c-9872526e0f37"
      },
      "execution_count": null,
      "outputs": [
        {
          "output_type": "execute_result",
          "data": {
            "text/plain": [
              "879189"
            ]
          },
          "metadata": {},
          "execution_count": 6
        }
      ]
    },
    {
      "cell_type": "code",
      "source": [
        "df.columns"
      ],
      "metadata": {
        "id": "vilP0LsYNwNZ",
        "colab": {
          "base_uri": "https://localhost:8080/"
        },
        "outputId": "2a1a75fa-34fa-4505-969f-499e02d026fd"
      },
      "execution_count": null,
      "outputs": [
        {
          "output_type": "execute_result",
          "data": {
            "text/plain": [
              "Index(['url', 'address', 'name', 'online_order', 'book_table', 'rate', 'votes',\n",
              "       'phone', 'location', 'rest_type', 'dish_liked', 'cuisines',\n",
              "       'approx_cost(for two people)', 'reviews_list', 'menu_item',\n",
              "       'listed_in(type)', 'listed_in(city)'],\n",
              "      dtype='object')"
            ]
          },
          "metadata": {},
          "execution_count": 7
        }
      ]
    },
    {
      "cell_type": "code",
      "source": [
        "df.dtypes"
      ],
      "metadata": {
        "id": "qKystkbGRDWE",
        "colab": {
          "base_uri": "https://localhost:8080/"
        },
        "outputId": "303a9dc4-410a-4c90-f302-b2c096668b3e"
      },
      "execution_count": null,
      "outputs": [
        {
          "output_type": "execute_result",
          "data": {
            "text/plain": [
              "url                            object\n",
              "address                        object\n",
              "name                           object\n",
              "online_order                   object\n",
              "book_table                     object\n",
              "rate                           object\n",
              "votes                           int64\n",
              "phone                          object\n",
              "location                       object\n",
              "rest_type                      object\n",
              "dish_liked                     object\n",
              "cuisines                       object\n",
              "approx_cost(for two people)    object\n",
              "reviews_list                   object\n",
              "menu_item                      object\n",
              "listed_in(type)                object\n",
              "listed_in(city)                object\n",
              "dtype: object"
            ]
          },
          "metadata": {},
          "execution_count": 8
        }
      ]
    },
    {
      "cell_type": "markdown",
      "source": [
        "Only the variable **votes** is read as an **integer**, remaining 16 columns are read as objects. So the variables like rating, approx_cost(for two people) should be changed to integer in the next phase if we want to perform any analysis on them."
      ],
      "metadata": {
        "id": "NKJlac1LOTiT"
      }
    },
    {
      "cell_type": "markdown",
      "source": [
        "# **CLEANING and DATA PREPARATION**"
      ],
      "metadata": {
        "id": "x-8BEmbYFGfG"
      }
    },
    {
      "cell_type": "markdown",
      "source": [
        "### In this section, we will perform some of the basic data cleaning techniques like checking for duplicate values & handling missing values, eliminating irrelevant values,..etc.\n",
        "\n",
        "###Apart from data cleaning, we will perform some of the manipulation techniques like changing the data type of the variables, dropping unwanted variables and renaming the columns for convenience and requirements."
      ],
      "metadata": {
        "id": "h76d7kGAPROH"
      }
    },
    {
      "cell_type": "markdown",
      "source": [
        "Pandas **df.info()** function is used to get a concise summary of our dataset. It comes really handy when doing exploratory analysis of the data"
      ],
      "metadata": {
        "id": "zytIUtFPZNUP"
      }
    },
    {
      "cell_type": "code",
      "source": [
        "df.info()"
      ],
      "metadata": {
        "id": "xDJ0BK2SO5uJ",
        "colab": {
          "base_uri": "https://localhost:8080/"
        },
        "outputId": "3f82ddcf-5a90-4d1d-d200-0f354d87c4fc"
      },
      "execution_count": null,
      "outputs": [
        {
          "output_type": "stream",
          "name": "stdout",
          "text": [
            "<class 'pandas.core.frame.DataFrame'>\n",
            "RangeIndex: 51717 entries, 0 to 51716\n",
            "Data columns (total 17 columns):\n",
            " #   Column                       Non-Null Count  Dtype \n",
            "---  ------                       --------------  ----- \n",
            " 0   url                          51717 non-null  object\n",
            " 1   address                      51717 non-null  object\n",
            " 2   name                         51717 non-null  object\n",
            " 3   online_order                 51717 non-null  object\n",
            " 4   book_table                   51717 non-null  object\n",
            " 5   rate                         43942 non-null  object\n",
            " 6   votes                        51717 non-null  int64 \n",
            " 7   phone                        50509 non-null  object\n",
            " 8   location                     51696 non-null  object\n",
            " 9   rest_type                    51490 non-null  object\n",
            " 10  dish_liked                   23639 non-null  object\n",
            " 11  cuisines                     51672 non-null  object\n",
            " 12  approx_cost(for two people)  51371 non-null  object\n",
            " 13  reviews_list                 51717 non-null  object\n",
            " 14  menu_item                    51717 non-null  object\n",
            " 15  listed_in(type)              51717 non-null  object\n",
            " 16  listed_in(city)              51717 non-null  object\n",
            "dtypes: int64(1), object(16)\n",
            "memory usage: 6.7+ MB\n"
          ]
        }
      ]
    },
    {
      "cell_type": "markdown",
      "source": [
        "In order to get a quick overview of the dataset we can also use **verbose** parameter and set it to False."
      ],
      "metadata": {
        "id": "iPVS6S57ZVwn"
      }
    },
    {
      "cell_type": "code",
      "source": [
        "df.info(verbose = False)"
      ],
      "metadata": {
        "id": "12mgPSyeQwxu",
        "colab": {
          "base_uri": "https://localhost:8080/"
        },
        "outputId": "1ff10d52-c73e-4728-85e5-1aedc5876e83"
      },
      "execution_count": null,
      "outputs": [
        {
          "output_type": "stream",
          "name": "stdout",
          "text": [
            "<class 'pandas.core.frame.DataFrame'>\n",
            "RangeIndex: 51717 entries, 0 to 51716\n",
            "Columns: 17 entries, url to listed_in(city)\n",
            "dtypes: int64(1), object(16)\n",
            "memory usage: 6.7+ MB\n"
          ]
        }
      ]
    },
    {
      "cell_type": "markdown",
      "source": [
        "# Dropping Duplicates"
      ],
      "metadata": {
        "id": "QmuuZ1Q5gPZT"
      }
    },
    {
      "cell_type": "code",
      "source": [
        "#check for any duplicate values\n",
        "df.drop_duplicates(inplace=True)\n",
        "df.shape\n"
      ],
      "metadata": {
        "id": "VdgxueinRgsd",
        "colab": {
          "base_uri": "https://localhost:8080/"
        },
        "outputId": "fd2f77f8-b2bd-4e0c-da4d-0005d7da975f"
      },
      "execution_count": null,
      "outputs": [
        {
          "output_type": "execute_result",
          "data": {
            "text/plain": [
              "(51717, 17)"
            ]
          },
          "metadata": {},
          "execution_count": 11
        }
      ]
    },
    {
      "cell_type": "markdown",
      "source": [
        "There are no duplicate values present in this dataset."
      ],
      "metadata": {
        "id": "N707D08xSFxC"
      }
    },
    {
      "cell_type": "code",
      "source": [
        "#check for missing values\n",
        "pd.DataFrame(round(df.isnull().sum()/df.shape[0] * 100,3), columns = [\"Missing\"])"
      ],
      "metadata": {
        "id": "Cxjgi3SFSKhM",
        "colab": {
          "base_uri": "https://localhost:8080/",
          "height": 582
        },
        "outputId": "c66b56b6-0e6b-4426-80d7-ada94d869aff"
      },
      "execution_count": null,
      "outputs": [
        {
          "output_type": "execute_result",
          "data": {
            "text/html": [
              "\n",
              "  <div id=\"df-7e4bd20d-8be7-4faa-a620-ee6137808ca3\">\n",
              "    <div class=\"colab-df-container\">\n",
              "      <div>\n",
              "<style scoped>\n",
              "    .dataframe tbody tr th:only-of-type {\n",
              "        vertical-align: middle;\n",
              "    }\n",
              "\n",
              "    .dataframe tbody tr th {\n",
              "        vertical-align: top;\n",
              "    }\n",
              "\n",
              "    .dataframe thead th {\n",
              "        text-align: right;\n",
              "    }\n",
              "</style>\n",
              "<table border=\"1\" class=\"dataframe\">\n",
              "  <thead>\n",
              "    <tr style=\"text-align: right;\">\n",
              "      <th></th>\n",
              "      <th>Missing</th>\n",
              "    </tr>\n",
              "  </thead>\n",
              "  <tbody>\n",
              "    <tr>\n",
              "      <th>url</th>\n",
              "      <td>0.000</td>\n",
              "    </tr>\n",
              "    <tr>\n",
              "      <th>address</th>\n",
              "      <td>0.000</td>\n",
              "    </tr>\n",
              "    <tr>\n",
              "      <th>name</th>\n",
              "      <td>0.000</td>\n",
              "    </tr>\n",
              "    <tr>\n",
              "      <th>online_order</th>\n",
              "      <td>0.000</td>\n",
              "    </tr>\n",
              "    <tr>\n",
              "      <th>book_table</th>\n",
              "      <td>0.000</td>\n",
              "    </tr>\n",
              "    <tr>\n",
              "      <th>rate</th>\n",
              "      <td>15.034</td>\n",
              "    </tr>\n",
              "    <tr>\n",
              "      <th>votes</th>\n",
              "      <td>0.000</td>\n",
              "    </tr>\n",
              "    <tr>\n",
              "      <th>phone</th>\n",
              "      <td>2.336</td>\n",
              "    </tr>\n",
              "    <tr>\n",
              "      <th>location</th>\n",
              "      <td>0.041</td>\n",
              "    </tr>\n",
              "    <tr>\n",
              "      <th>rest_type</th>\n",
              "      <td>0.439</td>\n",
              "    </tr>\n",
              "    <tr>\n",
              "      <th>dish_liked</th>\n",
              "      <td>54.292</td>\n",
              "    </tr>\n",
              "    <tr>\n",
              "      <th>cuisines</th>\n",
              "      <td>0.087</td>\n",
              "    </tr>\n",
              "    <tr>\n",
              "      <th>approx_cost(for two people)</th>\n",
              "      <td>0.669</td>\n",
              "    </tr>\n",
              "    <tr>\n",
              "      <th>reviews_list</th>\n",
              "      <td>0.000</td>\n",
              "    </tr>\n",
              "    <tr>\n",
              "      <th>menu_item</th>\n",
              "      <td>0.000</td>\n",
              "    </tr>\n",
              "    <tr>\n",
              "      <th>listed_in(type)</th>\n",
              "      <td>0.000</td>\n",
              "    </tr>\n",
              "    <tr>\n",
              "      <th>listed_in(city)</th>\n",
              "      <td>0.000</td>\n",
              "    </tr>\n",
              "  </tbody>\n",
              "</table>\n",
              "</div>\n",
              "      <button class=\"colab-df-convert\" onclick=\"convertToInteractive('df-7e4bd20d-8be7-4faa-a620-ee6137808ca3')\"\n",
              "              title=\"Convert this dataframe to an interactive table.\"\n",
              "              style=\"display:none;\">\n",
              "        \n",
              "  <svg xmlns=\"http://www.w3.org/2000/svg\" height=\"24px\"viewBox=\"0 0 24 24\"\n",
              "       width=\"24px\">\n",
              "    <path d=\"M0 0h24v24H0V0z\" fill=\"none\"/>\n",
              "    <path d=\"M18.56 5.44l.94 2.06.94-2.06 2.06-.94-2.06-.94-.94-2.06-.94 2.06-2.06.94zm-11 1L8.5 8.5l.94-2.06 2.06-.94-2.06-.94L8.5 2.5l-.94 2.06-2.06.94zm10 10l.94 2.06.94-2.06 2.06-.94-2.06-.94-.94-2.06-.94 2.06-2.06.94z\"/><path d=\"M17.41 7.96l-1.37-1.37c-.4-.4-.92-.59-1.43-.59-.52 0-1.04.2-1.43.59L10.3 9.45l-7.72 7.72c-.78.78-.78 2.05 0 2.83L4 21.41c.39.39.9.59 1.41.59.51 0 1.02-.2 1.41-.59l7.78-7.78 2.81-2.81c.8-.78.8-2.07 0-2.86zM5.41 20L4 18.59l7.72-7.72 1.47 1.35L5.41 20z\"/>\n",
              "  </svg>\n",
              "      </button>\n",
              "      \n",
              "  <style>\n",
              "    .colab-df-container {\n",
              "      display:flex;\n",
              "      flex-wrap:wrap;\n",
              "      gap: 12px;\n",
              "    }\n",
              "\n",
              "    .colab-df-convert {\n",
              "      background-color: #E8F0FE;\n",
              "      border: none;\n",
              "      border-radius: 50%;\n",
              "      cursor: pointer;\n",
              "      display: none;\n",
              "      fill: #1967D2;\n",
              "      height: 32px;\n",
              "      padding: 0 0 0 0;\n",
              "      width: 32px;\n",
              "    }\n",
              "\n",
              "    .colab-df-convert:hover {\n",
              "      background-color: #E2EBFA;\n",
              "      box-shadow: 0px 1px 2px rgba(60, 64, 67, 0.3), 0px 1px 3px 1px rgba(60, 64, 67, 0.15);\n",
              "      fill: #174EA6;\n",
              "    }\n",
              "\n",
              "    [theme=dark] .colab-df-convert {\n",
              "      background-color: #3B4455;\n",
              "      fill: #D2E3FC;\n",
              "    }\n",
              "\n",
              "    [theme=dark] .colab-df-convert:hover {\n",
              "      background-color: #434B5C;\n",
              "      box-shadow: 0px 1px 3px 1px rgba(0, 0, 0, 0.15);\n",
              "      filter: drop-shadow(0px 1px 2px rgba(0, 0, 0, 0.3));\n",
              "      fill: #FFFFFF;\n",
              "    }\n",
              "  </style>\n",
              "\n",
              "      <script>\n",
              "        const buttonEl =\n",
              "          document.querySelector('#df-7e4bd20d-8be7-4faa-a620-ee6137808ca3 button.colab-df-convert');\n",
              "        buttonEl.style.display =\n",
              "          google.colab.kernel.accessAllowed ? 'block' : 'none';\n",
              "\n",
              "        async function convertToInteractive(key) {\n",
              "          const element = document.querySelector('#df-7e4bd20d-8be7-4faa-a620-ee6137808ca3');\n",
              "          const dataTable =\n",
              "            await google.colab.kernel.invokeFunction('convertToInteractive',\n",
              "                                                     [key], {});\n",
              "          if (!dataTable) return;\n",
              "\n",
              "          const docLinkHtml = 'Like what you see? Visit the ' +\n",
              "            '<a target=\"_blank\" href=https://colab.research.google.com/notebooks/data_table.ipynb>data table notebook</a>'\n",
              "            + ' to learn more about interactive tables.';\n",
              "          element.innerHTML = '';\n",
              "          dataTable['output_type'] = 'display_data';\n",
              "          await google.colab.output.renderOutput(dataTable, element);\n",
              "          const docLink = document.createElement('div');\n",
              "          docLink.innerHTML = docLinkHtml;\n",
              "          element.appendChild(docLink);\n",
              "        }\n",
              "      </script>\n",
              "    </div>\n",
              "  </div>\n",
              "  "
            ],
            "text/plain": [
              "                             Missing\n",
              "url                            0.000\n",
              "address                        0.000\n",
              "name                           0.000\n",
              "online_order                   0.000\n",
              "book_table                     0.000\n",
              "rate                          15.034\n",
              "votes                          0.000\n",
              "phone                          2.336\n",
              "location                       0.041\n",
              "rest_type                      0.439\n",
              "dish_liked                    54.292\n",
              "cuisines                       0.087\n",
              "approx_cost(for two people)    0.669\n",
              "reviews_list                   0.000\n",
              "menu_item                      0.000\n",
              "listed_in(type)                0.000\n",
              "listed_in(city)                0.000"
            ]
          },
          "metadata": {},
          "execution_count": 12
        }
      ]
    },
    {
      "cell_type": "markdown",
      "source": [
        "There are few columns which contains nulll values as seen above.\n",
        "To simplify the analysis, we will drop some of the columns that are not very useful for our analysis like url, address ,phone,..etc"
      ],
      "metadata": {
        "id": "ntN8rTbZSpKD"
      }
    },
    {
      "cell_type": "code",
      "source": [
        "#dropping irrelevant columns\n",
        "df = df.drop(['url', 'address', 'phone', 'menu_item', 'dish_liked', 'reviews_list'], axis = 1)\n",
        "df.head()"
      ],
      "metadata": {
        "id": "4Ia4pfmFSd0n",
        "colab": {
          "base_uri": "https://localhost:8080/",
          "height": 337
        },
        "outputId": "5a5ffc10-3e80-422a-f3af-668d9bb58f23"
      },
      "execution_count": null,
      "outputs": [
        {
          "output_type": "execute_result",
          "data": {
            "text/html": [
              "\n",
              "  <div id=\"df-c0c77b8a-0671-42fc-a5a0-2697c9c2aab0\">\n",
              "    <div class=\"colab-df-container\">\n",
              "      <div>\n",
              "<style scoped>\n",
              "    .dataframe tbody tr th:only-of-type {\n",
              "        vertical-align: middle;\n",
              "    }\n",
              "\n",
              "    .dataframe tbody tr th {\n",
              "        vertical-align: top;\n",
              "    }\n",
              "\n",
              "    .dataframe thead th {\n",
              "        text-align: right;\n",
              "    }\n",
              "</style>\n",
              "<table border=\"1\" class=\"dataframe\">\n",
              "  <thead>\n",
              "    <tr style=\"text-align: right;\">\n",
              "      <th></th>\n",
              "      <th>name</th>\n",
              "      <th>online_order</th>\n",
              "      <th>book_table</th>\n",
              "      <th>rate</th>\n",
              "      <th>votes</th>\n",
              "      <th>location</th>\n",
              "      <th>rest_type</th>\n",
              "      <th>cuisines</th>\n",
              "      <th>approx_cost(for two people)</th>\n",
              "      <th>listed_in(type)</th>\n",
              "      <th>listed_in(city)</th>\n",
              "    </tr>\n",
              "  </thead>\n",
              "  <tbody>\n",
              "    <tr>\n",
              "      <th>0</th>\n",
              "      <td>Jalsa</td>\n",
              "      <td>Yes</td>\n",
              "      <td>Yes</td>\n",
              "      <td>4.1/5</td>\n",
              "      <td>775</td>\n",
              "      <td>Banashankari</td>\n",
              "      <td>Casual Dining</td>\n",
              "      <td>North Indian, Mughlai, Chinese</td>\n",
              "      <td>800</td>\n",
              "      <td>Buffet</td>\n",
              "      <td>Banashankari</td>\n",
              "    </tr>\n",
              "    <tr>\n",
              "      <th>1</th>\n",
              "      <td>Spice Elephant</td>\n",
              "      <td>Yes</td>\n",
              "      <td>No</td>\n",
              "      <td>4.1/5</td>\n",
              "      <td>787</td>\n",
              "      <td>Banashankari</td>\n",
              "      <td>Casual Dining</td>\n",
              "      <td>Chinese, North Indian, Thai</td>\n",
              "      <td>800</td>\n",
              "      <td>Buffet</td>\n",
              "      <td>Banashankari</td>\n",
              "    </tr>\n",
              "    <tr>\n",
              "      <th>2</th>\n",
              "      <td>San Churro Cafe</td>\n",
              "      <td>Yes</td>\n",
              "      <td>No</td>\n",
              "      <td>3.8/5</td>\n",
              "      <td>918</td>\n",
              "      <td>Banashankari</td>\n",
              "      <td>Cafe, Casual Dining</td>\n",
              "      <td>Cafe, Mexican, Italian</td>\n",
              "      <td>800</td>\n",
              "      <td>Buffet</td>\n",
              "      <td>Banashankari</td>\n",
              "    </tr>\n",
              "    <tr>\n",
              "      <th>3</th>\n",
              "      <td>Addhuri Udupi Bhojana</td>\n",
              "      <td>No</td>\n",
              "      <td>No</td>\n",
              "      <td>3.7/5</td>\n",
              "      <td>88</td>\n",
              "      <td>Banashankari</td>\n",
              "      <td>Quick Bites</td>\n",
              "      <td>South Indian, North Indian</td>\n",
              "      <td>300</td>\n",
              "      <td>Buffet</td>\n",
              "      <td>Banashankari</td>\n",
              "    </tr>\n",
              "    <tr>\n",
              "      <th>4</th>\n",
              "      <td>Grand Village</td>\n",
              "      <td>No</td>\n",
              "      <td>No</td>\n",
              "      <td>3.8/5</td>\n",
              "      <td>166</td>\n",
              "      <td>Basavanagudi</td>\n",
              "      <td>Casual Dining</td>\n",
              "      <td>North Indian, Rajasthani</td>\n",
              "      <td>600</td>\n",
              "      <td>Buffet</td>\n",
              "      <td>Banashankari</td>\n",
              "    </tr>\n",
              "  </tbody>\n",
              "</table>\n",
              "</div>\n",
              "      <button class=\"colab-df-convert\" onclick=\"convertToInteractive('df-c0c77b8a-0671-42fc-a5a0-2697c9c2aab0')\"\n",
              "              title=\"Convert this dataframe to an interactive table.\"\n",
              "              style=\"display:none;\">\n",
              "        \n",
              "  <svg xmlns=\"http://www.w3.org/2000/svg\" height=\"24px\"viewBox=\"0 0 24 24\"\n",
              "       width=\"24px\">\n",
              "    <path d=\"M0 0h24v24H0V0z\" fill=\"none\"/>\n",
              "    <path d=\"M18.56 5.44l.94 2.06.94-2.06 2.06-.94-2.06-.94-.94-2.06-.94 2.06-2.06.94zm-11 1L8.5 8.5l.94-2.06 2.06-.94-2.06-.94L8.5 2.5l-.94 2.06-2.06.94zm10 10l.94 2.06.94-2.06 2.06-.94-2.06-.94-.94-2.06-.94 2.06-2.06.94z\"/><path d=\"M17.41 7.96l-1.37-1.37c-.4-.4-.92-.59-1.43-.59-.52 0-1.04.2-1.43.59L10.3 9.45l-7.72 7.72c-.78.78-.78 2.05 0 2.83L4 21.41c.39.39.9.59 1.41.59.51 0 1.02-.2 1.41-.59l7.78-7.78 2.81-2.81c.8-.78.8-2.07 0-2.86zM5.41 20L4 18.59l7.72-7.72 1.47 1.35L5.41 20z\"/>\n",
              "  </svg>\n",
              "      </button>\n",
              "      \n",
              "  <style>\n",
              "    .colab-df-container {\n",
              "      display:flex;\n",
              "      flex-wrap:wrap;\n",
              "      gap: 12px;\n",
              "    }\n",
              "\n",
              "    .colab-df-convert {\n",
              "      background-color: #E8F0FE;\n",
              "      border: none;\n",
              "      border-radius: 50%;\n",
              "      cursor: pointer;\n",
              "      display: none;\n",
              "      fill: #1967D2;\n",
              "      height: 32px;\n",
              "      padding: 0 0 0 0;\n",
              "      width: 32px;\n",
              "    }\n",
              "\n",
              "    .colab-df-convert:hover {\n",
              "      background-color: #E2EBFA;\n",
              "      box-shadow: 0px 1px 2px rgba(60, 64, 67, 0.3), 0px 1px 3px 1px rgba(60, 64, 67, 0.15);\n",
              "      fill: #174EA6;\n",
              "    }\n",
              "\n",
              "    [theme=dark] .colab-df-convert {\n",
              "      background-color: #3B4455;\n",
              "      fill: #D2E3FC;\n",
              "    }\n",
              "\n",
              "    [theme=dark] .colab-df-convert:hover {\n",
              "      background-color: #434B5C;\n",
              "      box-shadow: 0px 1px 3px 1px rgba(0, 0, 0, 0.15);\n",
              "      filter: drop-shadow(0px 1px 2px rgba(0, 0, 0, 0.3));\n",
              "      fill: #FFFFFF;\n",
              "    }\n",
              "  </style>\n",
              "\n",
              "      <script>\n",
              "        const buttonEl =\n",
              "          document.querySelector('#df-c0c77b8a-0671-42fc-a5a0-2697c9c2aab0 button.colab-df-convert');\n",
              "        buttonEl.style.display =\n",
              "          google.colab.kernel.accessAllowed ? 'block' : 'none';\n",
              "\n",
              "        async function convertToInteractive(key) {\n",
              "          const element = document.querySelector('#df-c0c77b8a-0671-42fc-a5a0-2697c9c2aab0');\n",
              "          const dataTable =\n",
              "            await google.colab.kernel.invokeFunction('convertToInteractive',\n",
              "                                                     [key], {});\n",
              "          if (!dataTable) return;\n",
              "\n",
              "          const docLinkHtml = 'Like what you see? Visit the ' +\n",
              "            '<a target=\"_blank\" href=https://colab.research.google.com/notebooks/data_table.ipynb>data table notebook</a>'\n",
              "            + ' to learn more about interactive tables.';\n",
              "          element.innerHTML = '';\n",
              "          dataTable['output_type'] = 'display_data';\n",
              "          await google.colab.output.renderOutput(dataTable, element);\n",
              "          const docLink = document.createElement('div');\n",
              "          docLink.innerHTML = docLinkHtml;\n",
              "          element.appendChild(docLink);\n",
              "        }\n",
              "      </script>\n",
              "    </div>\n",
              "  </div>\n",
              "  "
            ],
            "text/plain": [
              "                    name online_order  ... listed_in(type) listed_in(city)\n",
              "0                  Jalsa          Yes  ...          Buffet    Banashankari\n",
              "1         Spice Elephant          Yes  ...          Buffet    Banashankari\n",
              "2        San Churro Cafe          Yes  ...          Buffet    Banashankari\n",
              "3  Addhuri Udupi Bhojana           No  ...          Buffet    Banashankari\n",
              "4          Grand Village           No  ...          Buffet    Banashankari\n",
              "\n",
              "[5 rows x 11 columns]"
            ]
          },
          "metadata": {},
          "execution_count": 13
        }
      ]
    },
    {
      "cell_type": "code",
      "source": [
        "#Remove the NaN values from the dataset\n",
        "# dropna() is use to delete the row from dataset which contains atleast 1 null value\n",
        "df.isnull().sum()\n",
        "df.dropna(how='any',inplace=True)\n",
        "df.info()\n",
        "print(df.shape)\n"
      ],
      "metadata": {
        "id": "UUmk0xsmU4d1",
        "colab": {
          "base_uri": "https://localhost:8080/"
        },
        "outputId": "27dd9564-33ce-4ae5-edbe-aa08fc7fd372"
      },
      "execution_count": null,
      "outputs": [
        {
          "output_type": "stream",
          "name": "stdout",
          "text": [
            "<class 'pandas.core.frame.DataFrame'>\n",
            "Int64Index: 43533 entries, 0 to 51716\n",
            "Data columns (total 11 columns):\n",
            " #   Column                       Non-Null Count  Dtype \n",
            "---  ------                       --------------  ----- \n",
            " 0   name                         43533 non-null  object\n",
            " 1   online_order                 43533 non-null  object\n",
            " 2   book_table                   43533 non-null  object\n",
            " 3   rate                         43533 non-null  object\n",
            " 4   votes                        43533 non-null  int64 \n",
            " 5   location                     43533 non-null  object\n",
            " 6   rest_type                    43533 non-null  object\n",
            " 7   cuisines                     43533 non-null  object\n",
            " 8   approx_cost(for two people)  43533 non-null  object\n",
            " 9   listed_in(type)              43533 non-null  object\n",
            " 10  listed_in(city)              43533 non-null  object\n",
            "dtypes: int64(1), object(10)\n",
            "memory usage: 4.0+ MB\n",
            "(43533, 11)\n"
          ]
        }
      ]
    },
    {
      "cell_type": "markdown",
      "source": [
        "From this we can conclude that out of 51,709 rows 8184 rows have null value in it"
      ],
      "metadata": {
        "id": "v2k2pfnFYejR"
      }
    },
    {
      "cell_type": "code",
      "source": [
        "#Renaming few columns for convenience\n",
        "df.rename(columns={\"approx_cost(for two people)\": \"cost_two\", \"listed_in(type)\":\"service_type\", \"listed_in(city)\":\"serve_to\"}, inplace = True)\n",
        "df.columns"
      ],
      "metadata": {
        "id": "CeSc9AVvYrbD",
        "colab": {
          "base_uri": "https://localhost:8080/"
        },
        "outputId": "1a4a23e7-d454-4a70-d9d3-607db135f99b"
      },
      "execution_count": null,
      "outputs": [
        {
          "output_type": "execute_result",
          "data": {
            "text/plain": [
              "Index(['name', 'online_order', 'book_table', 'rate', 'votes', 'location',\n",
              "       'rest_type', 'cuisines', 'cost_two', 'service_type', 'serve_to'],\n",
              "      dtype='object')"
            ]
          },
          "metadata": {},
          "execution_count": 15
        }
      ]
    },
    {
      "cell_type": "markdown",
      "source": [
        "# Cleaning Cost Column"
      ],
      "metadata": {
        "id": "K3zwEPgEQmu3"
      }
    },
    {
      "cell_type": "markdown",
      "source": [
        "As we have seen earlier that the variable **cost_two** has data type **object** which we need to convert to **float**/ **int** so that we can analyze it later.\n",
        "\n"
      ],
      "metadata": {
        "id": "wph5OhTmahhg"
      }
    },
    {
      "cell_type": "code",
      "source": [
        "df['cost_two'].unique()"
      ],
      "metadata": {
        "id": "E_uP3aULQ7Zq",
        "colab": {
          "base_uri": "https://localhost:8080/"
        },
        "outputId": "81a981b2-5e6b-496b-83d5-be53e3fbd26e"
      },
      "execution_count": null,
      "outputs": [
        {
          "output_type": "execute_result",
          "data": {
            "text/plain": [
              "array(['800', '300', '600', '700', '550', '500', '450', '650', '400',\n",
              "       '900', '200', '750', '150', '850', '100', '1,200', '350', '250',\n",
              "       '950', '1,000', '1,500', '1,300', '199', '80', '1,100', '160',\n",
              "       '1,600', '230', '130', '1,700', '1,400', '1,350', '2,200', '2,000',\n",
              "       '1,800', '1,900', '180', '330', '2,500', '2,100', '3,000', '2,800',\n",
              "       '3,400', '50', '40', '1,250', '3,500', '4,000', '2,400', '2,600',\n",
              "       '1,450', '70', '3,200', '560', '240', '360', '6,000', '1,050',\n",
              "       '2,300', '4,100', '120', '5,000', '3,700', '1,650', '2,700',\n",
              "       '4,500'], dtype=object)"
            ]
          },
          "metadata": {},
          "execution_count": 16
        }
      ]
    },
    {
      "cell_type": "markdown",
      "source": [
        "As from above we can see because of the presence of a comma in between the numbers.eg. 2,500 we can't simply convert it into float.\n",
        "\n",
        "So, we are creating handlecomma() function to remove the comma with nothing and then convert to float."
      ],
      "metadata": {
        "id": "q--UQ2vpRv_a"
      }
    },
    {
      "cell_type": "code",
      "source": [
        "#removing comma from cost_two column\n",
        "def handlecomma(value):\n",
        "    value = str(value)\n",
        "    if ',' in value:\n",
        "        value = value.replace(',', '')\n",
        "        return float(value)\n",
        "    else:\n",
        "        return float(value)\n",
        "    \n",
        "df['cost_two'] = df['cost_two'].apply(handlecomma)\n",
        "df['cost_two'].unique()"
      ],
      "metadata": {
        "id": "DObwRqyFZU-H",
        "colab": {
          "base_uri": "https://localhost:8080/"
        },
        "outputId": "50dbde1a-338c-4998-dd4c-c5715a4b2d54"
      },
      "execution_count": null,
      "outputs": [
        {
          "output_type": "execute_result",
          "data": {
            "text/plain": [
              "array([ 800.,  300.,  600.,  700.,  550.,  500.,  450.,  650.,  400.,\n",
              "        900.,  200.,  750.,  150.,  850.,  100., 1200.,  350.,  250.,\n",
              "        950., 1000., 1500., 1300.,  199.,   80., 1100.,  160., 1600.,\n",
              "        230.,  130., 1700., 1400., 1350., 2200., 2000., 1800., 1900.,\n",
              "        180.,  330., 2500., 2100., 3000., 2800., 3400.,   50.,   40.,\n",
              "       1250., 3500., 4000., 2400., 2600., 1450.,   70., 3200.,  560.,\n",
              "        240.,  360., 6000., 1050., 2300., 4100.,  120., 5000., 3700.,\n",
              "       1650., 2700., 4500.])"
            ]
          },
          "metadata": {},
          "execution_count": 17
        }
      ]
    },
    {
      "cell_type": "markdown",
      "source": [
        "# Cleaning Rate Column"
      ],
      "metadata": {
        "id": "7KP4WpRnTGI3"
      }
    },
    {
      "cell_type": "code",
      "source": [
        "df['rate'].unique()"
      ],
      "metadata": {
        "id": "GpidOvXWbGTc",
        "colab": {
          "base_uri": "https://localhost:8080/"
        },
        "outputId": "b2fe3eb4-16c0-4037-a0a7-b7fc0a18a6e1"
      },
      "execution_count": null,
      "outputs": [
        {
          "output_type": "execute_result",
          "data": {
            "text/plain": [
              "array(['4.1/5', '3.8/5', '3.7/5', '3.6/5', '4.6/5', '4.0/5', '4.2/5',\n",
              "       '3.9/5', '3.1/5', '3.0/5', '3.2/5', '3.3/5', '2.8/5', '4.4/5',\n",
              "       '4.3/5', 'NEW', '2.9/5', '3.5/5', '2.6/5', '3.8 /5', '3.4/5',\n",
              "       '4.5/5', '2.5/5', '2.7/5', '4.7/5', '2.4/5', '2.2/5', '2.3/5',\n",
              "       '3.4 /5', '-', '3.6 /5', '4.8/5', '3.9 /5', '4.2 /5', '4.0 /5',\n",
              "       '4.1 /5', '3.7 /5', '3.1 /5', '2.9 /5', '3.3 /5', '2.8 /5',\n",
              "       '3.5 /5', '2.7 /5', '2.5 /5', '3.2 /5', '2.6 /5', '4.5 /5',\n",
              "       '4.3 /5', '4.4 /5', '4.9/5', '2.1/5', '2.0/5', '1.8/5', '4.6 /5',\n",
              "       '4.9 /5', '3.0 /5', '4.8 /5', '2.3 /5', '4.7 /5', '2.4 /5',\n",
              "       '2.1 /5', '2.2 /5', '2.0 /5', '1.8 /5'], dtype=object)"
            ]
          },
          "metadata": {},
          "execution_count": 18
        }
      ]
    },
    {
      "cell_type": "code",
      "source": [
        "#simplifying rate column\n",
        "def handlerate(value):\n",
        "    if(value=='NEW' or value=='-'):\n",
        "        return np.nan\n",
        "    else:\n",
        "        value = str(value).split('/')\n",
        "        value = value[0]\n",
        "        return float(value)\n",
        "    \n",
        "df['rate'] = df['rate'].apply(handlerate)\n",
        "df['rate'].head()"
      ],
      "metadata": {
        "id": "uDsIWK0ebRG_",
        "colab": {
          "base_uri": "https://localhost:8080/"
        },
        "outputId": "60f46e44-61d5-486d-ff97-8935b9571241"
      },
      "execution_count": null,
      "outputs": [
        {
          "output_type": "execute_result",
          "data": {
            "text/plain": [
              "0    4.1\n",
              "1    4.1\n",
              "2    3.8\n",
              "3    3.7\n",
              "4    3.8\n",
              "Name: rate, dtype: float64"
            ]
          },
          "metadata": {},
          "execution_count": 19
        }
      ]
    },
    {
      "cell_type": "markdown",
      "source": [
        " \n",
        "### Filling null values with mean value\n"
      ],
      "metadata": {
        "id": "jeCbWVaUTnts"
      }
    },
    {
      "cell_type": "code",
      "source": [
        "# Count of null values present in rate column\n",
        "print(\"Count of null values in rate column:\",df['rate'].isnull().sum())\n",
        "df['rate'].fillna(df['rate'].mean(),inplace=True)\n",
        "print(\"Count of null values in rate column:\",df['rate'].isnull().sum())\n"
      ],
      "metadata": {
        "id": "JFfdh4bOeD0J",
        "colab": {
          "base_uri": "https://localhost:8080/"
        },
        "outputId": "40554d58-5ed9-4b03-c83e-3c1c5320e92f"
      },
      "execution_count": null,
      "outputs": [
        {
          "output_type": "stream",
          "name": "stdout",
          "text": [
            "Count of null values in rate column: 2270\n",
            "Count of null values in rate column: 0\n"
          ]
        }
      ]
    },
    {
      "cell_type": "markdown",
      "source": [
        "# Simplifying Rest type Column"
      ],
      "metadata": {
        "id": "4b5Gx3BpUGC0"
      }
    },
    {
      "cell_type": "code",
      "source": [
        "# Printing the count of each value\n",
        "rest_types = df['rest_type'].value_counts(ascending  = False)\n",
        "rest_types"
      ],
      "metadata": {
        "id": "KK9i7IxOrRRI",
        "colab": {
          "base_uri": "https://localhost:8080/"
        },
        "outputId": "4cdb299d-cf72-4ef6-d84b-2ae6d2483782"
      },
      "execution_count": null,
      "outputs": [
        {
          "output_type": "execute_result",
          "data": {
            "text/plain": [
              "Quick Bites                   15011\n",
              "Casual Dining                  9878\n",
              "Cafe                           3491\n",
              "Dessert Parlor                 1925\n",
              "Delivery                       1777\n",
              "                              ...  \n",
              "Cafe, Food Court                  2\n",
              "Dessert Parlor, Kiosk             2\n",
              "Dessert Parlor, Food Court        2\n",
              "Food Court, Beverage Shop         2\n",
              "Quick Bites, Kiosk                1\n",
              "Name: rest_type, Length: 87, dtype: int64"
            ]
          },
          "metadata": {},
          "execution_count": 21
        }
      ]
    },
    {
      "cell_type": "code",
      "source": [
        "# Printing the value of rest_type less than 1000\n",
        "rest_types_lessthan1000=rest_types[rest_types<1000]\n",
        "print(rest_types_lessthan1000)\n"
      ],
      "metadata": {
        "id": "86agdVRmVFU_",
        "colab": {
          "base_uri": "https://localhost:8080/"
        },
        "outputId": "8678de03-8fb6-45f5-b637-e7f1da5bb950"
      },
      "execution_count": null,
      "outputs": [
        {
          "output_type": "stream",
          "name": "stdout",
          "text": [
            "Bakery                        775\n",
            "Beverage Shop                 702\n",
            "Bar                           650\n",
            "Food Court                    525\n",
            "Bar, Casual Dining            410\n",
            "                             ... \n",
            "Cafe, Food Court                2\n",
            "Dessert Parlor, Kiosk           2\n",
            "Dessert Parlor, Food Court      2\n",
            "Food Court, Beverage Shop       2\n",
            "Quick Bites, Kiosk              1\n",
            "Name: rest_type, Length: 80, dtype: int64\n"
          ]
        }
      ]
    },
    {
      "cell_type": "markdown",
      "source": [
        "Assigning the values which is less than 1000 to other"
      ],
      "metadata": {
        "id": "DDBLtzBiUzjP"
      }
    },
    {
      "cell_type": "code",
      "source": [
        "#simplifying rest type column\n",
        "rest_types_lessthan1000 = rest_types[rest_types<1000]\n",
        "\n",
        "def handle_rest_type(value):\n",
        "    if(value in rest_types_lessthan1000):\n",
        "        return 'others'\n",
        "    else:\n",
        "        return value\n",
        "        \n",
        "df['rest_type'] = df['rest_type'].apply(handle_rest_type)\n",
        "df['rest_type'].value_counts()"
      ],
      "metadata": {
        "id": "thkFH60srgXU",
        "colab": {
          "base_uri": "https://localhost:8080/"
        },
        "outputId": "404fba43-baf6-4800-9197-4bb83b4b14f6"
      },
      "execution_count": null,
      "outputs": [
        {
          "output_type": "execute_result",
          "data": {
            "text/plain": [
              "Quick Bites           15011\n",
              "Casual Dining          9878\n",
              "others                 8870\n",
              "Cafe                   3491\n",
              "Dessert Parlor         1925\n",
              "Delivery               1777\n",
              "Takeaway, Delivery     1458\n",
              "Casual Dining, Bar     1123\n",
              "Name: rest_type, dtype: int64"
            ]
          },
          "metadata": {},
          "execution_count": 23
        }
      ]
    },
    {
      "cell_type": "markdown",
      "source": [
        "#simplifying location column"
      ],
      "metadata": {
        "id": "i_tBvXT1Vey6"
      }
    },
    {
      "cell_type": "code",
      "source": [
        "location = df['location'].value_counts(ascending=False)\n",
        "print(location)"
      ],
      "metadata": {
        "id": "uO-YlzqkVoWB",
        "colab": {
          "base_uri": "https://localhost:8080/"
        },
        "outputId": "8845f57f-399c-4908-cc24-1df79f50c941"
      },
      "execution_count": null,
      "outputs": [
        {
          "output_type": "stream",
          "name": "stdout",
          "text": [
            "BTM                      4210\n",
            "Koramangala 5th Block    2358\n",
            "HSR                      2102\n",
            "Indiranagar              1889\n",
            "JP Nagar                 1842\n",
            "                         ... \n",
            "West Bangalore              5\n",
            "Yelahanka                   4\n",
            "Rajarajeshwari Nagar        2\n",
            "Peenya                      1\n",
            "Nagarbhavi                  1\n",
            "Name: location, Length: 92, dtype: int64\n"
          ]
        }
      ]
    },
    {
      "cell_type": "code",
      "source": [
        "#Assigning the values which is less than 300 to other\n",
        "location = df['location'].value_counts(ascending  = False)\n",
        " \n",
        "location_lessthan300 = location[location<300]\n",
        " \n",
        " \n",
        " \n",
        "def handle_location(value):\n",
        "    if(value in location_lessthan300):\n",
        "        return 'others'\n",
        "    else:\n",
        "        return value\n",
        "        \n",
        "df['location'] = df['location'].apply(handle_location)\n",
        "df['location'].value_counts()"
      ],
      "metadata": {
        "id": "f9aADrC9sQxC",
        "colab": {
          "base_uri": "https://localhost:8080/"
        },
        "outputId": "238b477d-a3aa-4b88-aaeb-72dcfad63107"
      },
      "execution_count": null,
      "outputs": [
        {
          "output_type": "execute_result",
          "data": {
            "text/plain": [
              "others                   4635\n",
              "BTM                      4210\n",
              "Koramangala 5th Block    2358\n",
              "HSR                      2102\n",
              "Indiranagar              1889\n",
              "JP Nagar                 1842\n",
              "Jayanagar                1709\n",
              "Whitefield               1679\n",
              "Marathahalli             1470\n",
              "Bannerghatta Road        1314\n",
              "Koramangala 6th Block    1088\n",
              "Brigade Road             1084\n",
              "Koramangala 7th Block    1084\n",
              "Bellandur                1063\n",
              "Koramangala 1st Block     964\n",
              "Electronic City           955\n",
              "Sarjapur Road             907\n",
              "Ulsoor                    901\n",
              "Koramangala 4th Block     864\n",
              "MG Road                   818\n",
              "Banashankari              805\n",
              "Kalyan Nagar              742\n",
              "Malleshwaram              657\n",
              "Basavanagudi              628\n",
              "Richmond Road             626\n",
              "Residency Road            607\n",
              "Brookefield               579\n",
              "Frazer Town               574\n",
              "Church Street             550\n",
              "New BEL Road              521\n",
              "Kammanahalli              517\n",
              "Lavelle Road              493\n",
              "Rajajinagar               487\n",
              "Banaswadi                 487\n",
              "Cunningham Road           475\n",
              "Domlur                    426\n",
              "Shanti Nagar              390\n",
              "Old Airport Road          381\n",
              "St. Marks Road            343\n",
              "Commercial Street         309\n",
              "Name: location, dtype: int64"
            ]
          },
          "metadata": {},
          "execution_count": 25
        }
      ]
    },
    {
      "cell_type": "markdown",
      "source": [
        "# Now our Dataset is ready for the next step!!! i.e. Visualization"
      ],
      "metadata": {
        "id": "KhnxS9Bua6J-"
      }
    },
    {
      "cell_type": "code",
      "source": [
        "df.head()"
      ],
      "metadata": {
        "id": "Yk8hoiOcabAh",
        "colab": {
          "base_uri": "https://localhost:8080/",
          "height": 206
        },
        "outputId": "fe898acf-0aac-4215-f44c-2c035f2c132b"
      },
      "execution_count": null,
      "outputs": [
        {
          "output_type": "execute_result",
          "data": {
            "text/html": [
              "\n",
              "  <div id=\"df-34eaab36-4fc8-4af5-9f88-971ddb36e0f4\">\n",
              "    <div class=\"colab-df-container\">\n",
              "      <div>\n",
              "<style scoped>\n",
              "    .dataframe tbody tr th:only-of-type {\n",
              "        vertical-align: middle;\n",
              "    }\n",
              "\n",
              "    .dataframe tbody tr th {\n",
              "        vertical-align: top;\n",
              "    }\n",
              "\n",
              "    .dataframe thead th {\n",
              "        text-align: right;\n",
              "    }\n",
              "</style>\n",
              "<table border=\"1\" class=\"dataframe\">\n",
              "  <thead>\n",
              "    <tr style=\"text-align: right;\">\n",
              "      <th></th>\n",
              "      <th>name</th>\n",
              "      <th>online_order</th>\n",
              "      <th>book_table</th>\n",
              "      <th>rate</th>\n",
              "      <th>votes</th>\n",
              "      <th>location</th>\n",
              "      <th>rest_type</th>\n",
              "      <th>cuisines</th>\n",
              "      <th>cost_two</th>\n",
              "      <th>service_type</th>\n",
              "      <th>serve_to</th>\n",
              "    </tr>\n",
              "  </thead>\n",
              "  <tbody>\n",
              "    <tr>\n",
              "      <th>0</th>\n",
              "      <td>Jalsa</td>\n",
              "      <td>Yes</td>\n",
              "      <td>Yes</td>\n",
              "      <td>4.1</td>\n",
              "      <td>775</td>\n",
              "      <td>Banashankari</td>\n",
              "      <td>Casual Dining</td>\n",
              "      <td>North Indian, Mughlai, Chinese</td>\n",
              "      <td>800.0</td>\n",
              "      <td>Buffet</td>\n",
              "      <td>Banashankari</td>\n",
              "    </tr>\n",
              "    <tr>\n",
              "      <th>1</th>\n",
              "      <td>Spice Elephant</td>\n",
              "      <td>Yes</td>\n",
              "      <td>No</td>\n",
              "      <td>4.1</td>\n",
              "      <td>787</td>\n",
              "      <td>Banashankari</td>\n",
              "      <td>Casual Dining</td>\n",
              "      <td>Chinese, North Indian, Thai</td>\n",
              "      <td>800.0</td>\n",
              "      <td>Buffet</td>\n",
              "      <td>Banashankari</td>\n",
              "    </tr>\n",
              "    <tr>\n",
              "      <th>2</th>\n",
              "      <td>San Churro Cafe</td>\n",
              "      <td>Yes</td>\n",
              "      <td>No</td>\n",
              "      <td>3.8</td>\n",
              "      <td>918</td>\n",
              "      <td>Banashankari</td>\n",
              "      <td>others</td>\n",
              "      <td>Cafe, Mexican, Italian</td>\n",
              "      <td>800.0</td>\n",
              "      <td>Buffet</td>\n",
              "      <td>Banashankari</td>\n",
              "    </tr>\n",
              "    <tr>\n",
              "      <th>3</th>\n",
              "      <td>Addhuri Udupi Bhojana</td>\n",
              "      <td>No</td>\n",
              "      <td>No</td>\n",
              "      <td>3.7</td>\n",
              "      <td>88</td>\n",
              "      <td>Banashankari</td>\n",
              "      <td>Quick Bites</td>\n",
              "      <td>South Indian, North Indian</td>\n",
              "      <td>300.0</td>\n",
              "      <td>Buffet</td>\n",
              "      <td>Banashankari</td>\n",
              "    </tr>\n",
              "    <tr>\n",
              "      <th>4</th>\n",
              "      <td>Grand Village</td>\n",
              "      <td>No</td>\n",
              "      <td>No</td>\n",
              "      <td>3.8</td>\n",
              "      <td>166</td>\n",
              "      <td>Basavanagudi</td>\n",
              "      <td>Casual Dining</td>\n",
              "      <td>North Indian, Rajasthani</td>\n",
              "      <td>600.0</td>\n",
              "      <td>Buffet</td>\n",
              "      <td>Banashankari</td>\n",
              "    </tr>\n",
              "  </tbody>\n",
              "</table>\n",
              "</div>\n",
              "      <button class=\"colab-df-convert\" onclick=\"convertToInteractive('df-34eaab36-4fc8-4af5-9f88-971ddb36e0f4')\"\n",
              "              title=\"Convert this dataframe to an interactive table.\"\n",
              "              style=\"display:none;\">\n",
              "        \n",
              "  <svg xmlns=\"http://www.w3.org/2000/svg\" height=\"24px\"viewBox=\"0 0 24 24\"\n",
              "       width=\"24px\">\n",
              "    <path d=\"M0 0h24v24H0V0z\" fill=\"none\"/>\n",
              "    <path d=\"M18.56 5.44l.94 2.06.94-2.06 2.06-.94-2.06-.94-.94-2.06-.94 2.06-2.06.94zm-11 1L8.5 8.5l.94-2.06 2.06-.94-2.06-.94L8.5 2.5l-.94 2.06-2.06.94zm10 10l.94 2.06.94-2.06 2.06-.94-2.06-.94-.94-2.06-.94 2.06-2.06.94z\"/><path d=\"M17.41 7.96l-1.37-1.37c-.4-.4-.92-.59-1.43-.59-.52 0-1.04.2-1.43.59L10.3 9.45l-7.72 7.72c-.78.78-.78 2.05 0 2.83L4 21.41c.39.39.9.59 1.41.59.51 0 1.02-.2 1.41-.59l7.78-7.78 2.81-2.81c.8-.78.8-2.07 0-2.86zM5.41 20L4 18.59l7.72-7.72 1.47 1.35L5.41 20z\"/>\n",
              "  </svg>\n",
              "      </button>\n",
              "      \n",
              "  <style>\n",
              "    .colab-df-container {\n",
              "      display:flex;\n",
              "      flex-wrap:wrap;\n",
              "      gap: 12px;\n",
              "    }\n",
              "\n",
              "    .colab-df-convert {\n",
              "      background-color: #E8F0FE;\n",
              "      border: none;\n",
              "      border-radius: 50%;\n",
              "      cursor: pointer;\n",
              "      display: none;\n",
              "      fill: #1967D2;\n",
              "      height: 32px;\n",
              "      padding: 0 0 0 0;\n",
              "      width: 32px;\n",
              "    }\n",
              "\n",
              "    .colab-df-convert:hover {\n",
              "      background-color: #E2EBFA;\n",
              "      box-shadow: 0px 1px 2px rgba(60, 64, 67, 0.3), 0px 1px 3px 1px rgba(60, 64, 67, 0.15);\n",
              "      fill: #174EA6;\n",
              "    }\n",
              "\n",
              "    [theme=dark] .colab-df-convert {\n",
              "      background-color: #3B4455;\n",
              "      fill: #D2E3FC;\n",
              "    }\n",
              "\n",
              "    [theme=dark] .colab-df-convert:hover {\n",
              "      background-color: #434B5C;\n",
              "      box-shadow: 0px 1px 3px 1px rgba(0, 0, 0, 0.15);\n",
              "      filter: drop-shadow(0px 1px 2px rgba(0, 0, 0, 0.3));\n",
              "      fill: #FFFFFF;\n",
              "    }\n",
              "  </style>\n",
              "\n",
              "      <script>\n",
              "        const buttonEl =\n",
              "          document.querySelector('#df-34eaab36-4fc8-4af5-9f88-971ddb36e0f4 button.colab-df-convert');\n",
              "        buttonEl.style.display =\n",
              "          google.colab.kernel.accessAllowed ? 'block' : 'none';\n",
              "\n",
              "        async function convertToInteractive(key) {\n",
              "          const element = document.querySelector('#df-34eaab36-4fc8-4af5-9f88-971ddb36e0f4');\n",
              "          const dataTable =\n",
              "            await google.colab.kernel.invokeFunction('convertToInteractive',\n",
              "                                                     [key], {});\n",
              "          if (!dataTable) return;\n",
              "\n",
              "          const docLinkHtml = 'Like what you see? Visit the ' +\n",
              "            '<a target=\"_blank\" href=https://colab.research.google.com/notebooks/data_table.ipynb>data table notebook</a>'\n",
              "            + ' to learn more about interactive tables.';\n",
              "          element.innerHTML = '';\n",
              "          dataTable['output_type'] = 'display_data';\n",
              "          await google.colab.output.renderOutput(dataTable, element);\n",
              "          const docLink = document.createElement('div');\n",
              "          docLink.innerHTML = docLinkHtml;\n",
              "          element.appendChild(docLink);\n",
              "        }\n",
              "      </script>\n",
              "    </div>\n",
              "  </div>\n",
              "  "
            ],
            "text/plain": [
              "                    name online_order  ... service_type      serve_to\n",
              "0                  Jalsa          Yes  ...       Buffet  Banashankari\n",
              "1         Spice Elephant          Yes  ...       Buffet  Banashankari\n",
              "2        San Churro Cafe          Yes  ...       Buffet  Banashankari\n",
              "3  Addhuri Udupi Bhojana           No  ...       Buffet  Banashankari\n",
              "4          Grand Village           No  ...       Buffet  Banashankari\n",
              "\n",
              "[5 rows x 11 columns]"
            ]
          },
          "metadata": {},
          "execution_count": 26
        }
      ]
    },
    {
      "cell_type": "markdown",
      "source": [
        "**Final** **Check**"
      ],
      "metadata": {
        "id": "lQtWGG1zbZ8P"
      }
    },
    {
      "cell_type": "code",
      "source": [
        "df.isnull().sum()"
      ],
      "metadata": {
        "id": "zM1MS3HhaxO7",
        "colab": {
          "base_uri": "https://localhost:8080/"
        },
        "outputId": "c9acaf4b-fe51-4e11-ed51-0606acbd977b"
      },
      "execution_count": null,
      "outputs": [
        {
          "output_type": "execute_result",
          "data": {
            "text/plain": [
              "name            0\n",
              "online_order    0\n",
              "book_table      0\n",
              "rate            0\n",
              "votes           0\n",
              "location        0\n",
              "rest_type       0\n",
              "cuisines        0\n",
              "cost_two        0\n",
              "service_type    0\n",
              "serve_to        0\n",
              "dtype: int64"
            ]
          },
          "metadata": {},
          "execution_count": 27
        }
      ]
    },
    {
      "cell_type": "markdown",
      "source": [
        "# Data is Clean, Lets Jump To VISUALIZATION\n",
        "\n",
        "---\n",
        "\n"
      ],
      "metadata": {
        "id": "JbQmB5J-FNoh"
      }
    },
    {
      "cell_type": "markdown",
      "source": [
        "## **1)\tIn which area most of the restaurants are located ?**"
      ],
      "metadata": {
        "id": "BNcyp-itwP1a"
      }
    },
    {
      "cell_type": "code",
      "source": [
        "sns.set_style('darkgrid')\n",
        "ch=df['location'].value_counts()[:10]\n",
        "sns.barplot(x=ch,y=ch.index,palette='viridis')\n",
        "plt.xlabel('Number of Outlets')\n",
        "plt.ylabel('Location')\n",
        "plt.show()"
      ],
      "metadata": {
        "id": "ZR2IlDGKvXg1",
        "colab": {
          "base_uri": "https://localhost:8080/",
          "height": 279
        },
        "outputId": "31e946f6-9db3-452b-d53d-13d8ffb12d8b"
      },
      "execution_count": null,
      "outputs": [
        {
          "output_type": "display_data",
          "data": {
            "image/png": "[encoded data removed]",
            "text/plain": [
              "<Figure size 432x288 with 1 Axes>"
            ]
          },
          "metadata": {}
        }
      ]
    },
    {
      "cell_type": "markdown",
      "source": [
        "Most of the restaurants are located in BTM Layout area (4750 restaurants), makes it one of the most popular residential and commercial places in Bangalore."
      ],
      "metadata": {
        "id": "q2ZAsx17b6Aa"
      }
    },
    {
      "cell_type": "markdown",
      "source": [
        "## **2) Next let’s see  in which area most of the restaurants are listed in or deliver to a particular Location**"
      ],
      "metadata": {
        "id": "KHWo5XIKcAa-"
      }
    },
    {
      "cell_type": "code",
      "source": [
        "sns.set_style('darkgrid')\n",
        "ch=df['serve_to'].value_counts()[:10]\n",
        "sns.barplot(x=ch,y=ch.index,data=df,palette='rainbow')\n",
        "plt.title(\"Number of restaurants deliver to a particular location\")\n",
        "plt.xlabel('Count')\n",
        "plt.ylabel('Location')\n",
        "plt.show()"
      ],
      "metadata": {
        "id": "Vkk9HauMt3AQ",
        "colab": {
          "base_uri": "https://localhost:8080/",
          "height": 295
        },
        "outputId": "5e5447a7-5d85-4567-f752-07cfbd58ebdc"
      },
      "execution_count": null,
      "outputs": [
        {
          "output_type": "display_data",
          "data": {
            "image/png": "[encoded data removed]",
            "text/plain": [
              "<Figure size 432x288 with 1 Axes>"
            ]
          },
          "metadata": {}
        }
      ]
    },
    {
      "cell_type": "markdown",
      "source": [
        "As expected most of the restaurants deliver to BTM Layout because this area is home to over 4750 restaurants.\n",
        "\n",
        " Even though Koramangala 7th Block doesn’t have many restaurants, it stands second in terms of the number of restaurants that deliver to this location."
      ],
      "metadata": {
        "id": "LQ7Hbp-ucUPD"
      }
    },
    {
      "cell_type": "markdown",
      "source": [
        "# **3) Most In-demand Restaurant types**"
      ],
      "metadata": {
        "id": "XoNdFQYsdnot"
      }
    },
    {
      "cell_type": "code",
      "source": [
        "plt.figure(figsize = (14, 8))\n",
        "sns.boxplot(x = 'rest_type', y = 'rate', data = df, palette = 'inferno')\n",
        "plt.title(\"Most In-Demand Restaurant Types\")\n",
        "\n",
        "plt.show()\n"
      ],
      "metadata": {
        "id": "V5GNJjnV0yLc",
        "colab": {
          "base_uri": "https://localhost:8080/",
          "height": 513
        },
        "outputId": "37deb80f-6678-43ff-9192-0272e782f936"
      },
      "execution_count": null,
      "outputs": [
        {
          "output_type": "display_data",
          "data": {
            "image/png": "[encoded data removed]",
            "text/plain": [
              "<Figure size 1008x576 with 1 Axes>"
            ]
          },
          "metadata": {}
        }
      ]
    },
    {
      "cell_type": "markdown",
      "source": [
        "As from the above we can say that people loved to have Casual Dining as well as bar type restaurats has its has the maximum average ratings than other types. "
      ],
      "metadata": {
        "id": "D1bj7FE31hFc"
      }
    },
    {
      "cell_type": "markdown",
      "source": [
        "# 4) What is the highest number of rating given by customers? \n",
        "\n"
      ],
      "metadata": {
        "id": "0VG2VPS36Ps6"
      }
    },
    {
      "cell_type": "code",
      "source": [
        "#plot the count of rating.\n",
        "plt.rcParams['figure.figsize'] = 14,7\n",
        "sns.countplot(df[\"rate\"], palette=\"Set1\")\n",
        "plt.title(\"Count plot for rate variable\")\n",
        "plt.show()\n"
      ],
      "metadata": {
        "id": "BnrjlXDw1nCN",
        "colab": {
          "base_uri": "https://localhost:8080/",
          "height": 458
        },
        "outputId": "f6158963-ebfe-4ab4-e002-cfd2f14a78ae"
      },
      "execution_count": null,
      "outputs": [
        {
          "output_type": "display_data",
          "data": {
            "image/png": "[encoded data removed]",
            "text/plain": [
              "<Figure size 1008x504 with 1 Axes>"
            ]
          },
          "metadata": {}
        }
      ]
    },
    {
      "cell_type": "markdown",
      "source": [
        "The rate variable follows near normal distribution with mean equal to 3.7. \n",
        "\n",
        "The rating for the majority of the restaurants lies within the range of 3.5 - 4.2 . Very few restaurants (~350) has rated more than 4.8.\n",
        "\n",
        "From this graph we can conclude that 3.9 is the highest number of rating and 1.8 and 2.0 is lowest\n"
      ],
      "metadata": {
        "id": "xZ1zlXSr2WGQ"
      }
    },
    {
      "cell_type": "markdown",
      "source": [
        "## 5) Proportion of Restaurants that provide online service & Boking Tables facility"
      ],
      "metadata": {
        "id": "_8hjkBtNQReJ"
      }
    },
    {
      "cell_type": "code",
      "source": [
        "# Proportion of Restaurants that provide online service\n",
        "plt.rcParams['figure.figsize'] = 14,7\n",
        "plt.subplot(1,2,1)\n",
        "df.online_order.value_counts().plot(kind='pie')\n",
        "w_circle=plt.Circle((0,0),0.7,color='white')\n",
        "plt.title(\"Restaurants that provide online service\")\n",
        "p=plt.gcf()\n",
        "p.gca().add_artist(w_circle)\n",
        "\n",
        "plt.subplot(1,2,2)\n",
        "# Proportion of restaurants that allow booking tables\n",
        "plt.subplot(1,2,2)\n",
        "df.book_table.value_counts().plot(kind='pie')\n",
        "w_circle=plt.Circle((0,0),0.7,color='white')\n",
        "plt.title(\"Restaurants that provide Booking table service\")\n",
        "p=plt.gcf()\n",
        "p.gca().add_artist(w_circle)"
      ],
      "metadata": {
        "id": "vU3xUcvl2XFz",
        "colab": {
          "base_uri": "https://localhost:8080/",
          "height": 420
        },
        "outputId": "9344c393-0fd9-4718-89d1-2a42af1a832f"
      },
      "execution_count": null,
      "outputs": [
        {
          "output_type": "execute_result",
          "data": {
            "text/plain": [
              "<matplotlib.patches.Circle at 0x7ffb463ac690>"
            ]
          },
          "metadata": {},
          "execution_count": 32
        },
        {
          "output_type": "display_data",
          "data": {
            "image/png": "[encoded data removed]",
            "text/plain": [
              "<Figure size 1008x504 with 2 Axes>"
            ]
          },
          "metadata": {}
        }
      ]
    },
    {
      "cell_type": "markdown",
      "source": [
        "The restaurants having online service & booking facility have higher average ratings than those restaurants who do not have"
      ],
      "metadata": {
        "id": "LzNBse6vP_5Q"
      }
    },
    {
      "cell_type": "markdown",
      "source": [
        "## 6) Impact of Online Ordering on Ratings"
      ],
      "metadata": {
        "id": "cIsKykF5PeeI"
      }
    },
    {
      "cell_type": "code",
      "source": [
        "# Impact of Online Ordering on Ratings\n",
        "sns.set_style('white')\n",
        "y=pd.crosstab(df.rate,df.online_order)\n",
        "y.plot(kind='bar',stacked=True)"
      ],
      "metadata": {
        "id": "EHGK1QVD3elR",
        "colab": {
          "base_uri": "https://localhost:8080/",
          "height": 555
        },
        "outputId": "a2a5a179-4627-401a-e335-ae95f7894ad5"
      },
      "execution_count": null,
      "outputs": [
        {
          "output_type": "execute_result",
          "data": {
            "text/plain": [
              "<matplotlib.axes._subplots.AxesSubplot at 0x7ffb46518fd0>"
            ]
          },
          "metadata": {},
          "execution_count": 33
        },
        {
          "output_type": "display_data",
          "data": {
            "image/png": "[encoded data removed]",
            "text/plain": [
              "<Figure size 1008x504 with 1 Axes>"
            ]
          },
          "metadata": {}
        }
      ]
    },
    {
      "cell_type": "markdown",
      "source": [
        "\n",
        "It can be seen from the chart below that restaurants that allow ordering online tend to have higher ratings"
      ],
      "metadata": {
        "id": "QLk2ck9V3_UP"
      }
    },
    {
      "cell_type": "markdown",
      "source": [
        "## 7) Impact of Table Booking on Ratings"
      ],
      "metadata": {
        "id": "7JeBavAmPVUU"
      }
    },
    {
      "cell_type": "code",
      "source": [
        "# Impact of Table Booking on Ratings\n",
        "sns.set_style('white')\n",
        "y=pd.crosstab(df.rate,df.book_table)\n",
        "y.plot(kind='bar',stacked=True)"
      ],
      "metadata": {
        "id": "I8L2J1Kr4CuY",
        "colab": {
          "base_uri": "https://localhost:8080/",
          "height": 555
        },
        "outputId": "27ad4c87-c45c-4f83-efd0-b308a7d37e8f"
      },
      "execution_count": null,
      "outputs": [
        {
          "output_type": "execute_result",
          "data": {
            "text/plain": [
              "<matplotlib.axes._subplots.AxesSubplot at 0x7ffb46171050>"
            ]
          },
          "metadata": {},
          "execution_count": 34
        },
        {
          "output_type": "display_data",
          "data": {
            "image/png": "[encoded data removed]",
            "text/plain": [
              "<Figure size 1008x504 with 1 Axes>"
            ]
          },
          "metadata": {}
        }
      ]
    },
    {
      "cell_type": "markdown",
      "source": [
        "It can be seen from the chart below that restaurants that allow table bookings tend to have higher ratings."
      ],
      "metadata": {
        "id": "cFgimFlP4RD7"
      }
    },
    {
      "cell_type": "markdown",
      "source": [
        "## 8) Visualizing Online Order Facility, Location Wise"
      ],
      "metadata": {
        "id": "8fc0HidRh6OJ"
      }
    },
    {
      "cell_type": "markdown",
      "source": [
        "Here, we are going to use pivot table which help us to analyze the two columns\n",
        "\n",
        "\n"
      ],
      "metadata": {
        "id": "9vk_cPwOj1XT"
      }
    },
    {
      "cell_type": "code",
      "source": [
        "df1 = df.groupby(['location','online_order'])['name'].count()[:50]\n",
        "df1.to_csv('location_online.csv')\n",
        "df1 = pd.read_csv('location_online.csv')\n",
        "df1 = pd.pivot_table(df1, values=None, index=['location'],columns=['online_order'], fill_value=0, aggfunc=np.sum)\n",
        "print(df1)\n",
        "df1.plot(kind = 'bar',fontsize=8, figsize = (15,8))\n",
        "plt.title(\"Visualizing Online Order Facility, Location Wise\")\n",
        "plt.show()\n"
      ],
      "metadata": {
        "id": "Q9GMaAvSh6ti",
        "colab": {
          "base_uri": "https://localhost:8080/",
          "height": 1000
        },
        "outputId": "6b6aab02-e453-4a0e-86e8-a9f4f9acc5a5"
      },
      "execution_count": null,
      "outputs": [
        {
          "output_type": "stream",
          "name": "stdout",
          "text": [
            "                       name      \n",
            "online_order             No   Yes\n",
            "location                         \n",
            "BTM                    1179  3031\n",
            "Banashankari            308   497\n",
            "Banaswadi               184   303\n",
            "Bannerghatta Road       444   870\n",
            "Basavanagudi            207   421\n",
            "Bellandur               350   713\n",
            "Brigade Road            466   618\n",
            "Brookefield             178   401\n",
            "Church Street           213   337\n",
            "Commercial Street       173   136\n",
            "Cunningham Road         156   319\n",
            "Domlur                  199   227\n",
            "Electronic City         420   535\n",
            "Frazer Town             204   370\n",
            "HSR                     370  1732\n",
            "Indiranagar             583  1306\n",
            "JP Nagar                634  1208\n",
            "Jayanagar               423  1286\n",
            "Kalyan Nagar            273   469\n",
            "Kammanahalli            173   344\n",
            "Koramangala 1st Block   196   768\n",
            "Koramangala 4th Block   375   489\n",
            "Koramangala 5th Block   807  1551\n",
            "Koramangala 6th Block   425   663\n",
            "Koramangala 7th Block   323   761\n"
          ]
        },
        {
          "output_type": "display_data",
          "data": {
            "image/png": "[encoded data removed]",
            "text/plain": [
              "<Figure size 1080x576 with 1 Axes>"
            ]
          },
          "metadata": {}
        }
      ]
    },
    {
      "cell_type": "markdown",
      "source": [
        "##9) Visualizing Booking Table Facility, Location Wise"
      ],
      "metadata": {
        "id": "EqANeRaYiNb-"
      }
    },
    {
      "cell_type": "code",
      "source": [
        "df2 = df.groupby(['location','book_table'])['name'].count()[:50]\n",
        "df2.to_csv('location_booktable.csv')\n",
        "df2 = pd.read_csv('location_booktable.csv')\n",
        "df2 = pd.pivot_table(df2, values=None, index=['location'], columns=['book_table'], fill_value=0, aggfunc=np.sum)\n",
        "print(df2)\n",
        "df2.plot(kind = 'bar',fontsize=8, figsize = (15,8))\n",
        "plt.title(\"Visualizing Booking table Facility, Location Wise\")\n",
        "plt.show()\n"
      ],
      "metadata": {
        "id": "EBuf46AJiZGK",
        "colab": {
          "base_uri": "https://localhost:8080/",
          "height": 1000
        },
        "outputId": "7af1f0b3-7f37-46cd-c817-d4a0587f7c22"
      },
      "execution_count": null,
      "outputs": [
        {
          "output_type": "stream",
          "name": "stdout",
          "text": [
            "                       name     \n",
            "book_table               No  Yes\n",
            "location                        \n",
            "BTM                    4044  166\n",
            "Banashankari            743   62\n",
            "Banaswadi               479    8\n",
            "Bannerghatta Road      1216   98\n",
            "Basavanagudi            612   16\n",
            "Bellandur               965   98\n",
            "Brigade Road            905  179\n",
            "Brookefield             505   74\n",
            "Church Street           368  182\n",
            "Commercial Street       309    0\n",
            "Cunningham Road         300  175\n",
            "Domlur                  371   55\n",
            "Electronic City         856   99\n",
            "Frazer Town             566    8\n",
            "HSR                    1886  216\n",
            "Indiranagar            1435  454\n",
            "JP Nagar               1533  309\n",
            "Jayanagar              1434  275\n",
            "Kalyan Nagar            593  149\n",
            "Kammanahalli            468   49\n",
            "Koramangala 1st Block   914   50\n",
            "Koramangala 4th Block   542  322\n",
            "Koramangala 5th Block  1666  692\n",
            "Koramangala 6th Block   975  113\n",
            "Koramangala 7th Block   920  164\n",
            "Lavelle Road            261    0\n"
          ]
        },
        {
          "output_type": "display_data",
          "data": {
            "image/png": "[encoded data removed]",
            "text/plain": [
              "<Figure size 1080x576 with 1 Axes>"
            ]
          },
          "metadata": {}
        }
      ]
    },
    {
      "cell_type": "markdown",
      "source": [
        " \n",
        "*   From the above both graphs, we can say that BTM which already have large number of restaurants also the one of the locations who provide maximum online order facility.\n",
        "\n",
        "*   But in the case of booking table facility there are very few restaurats in BTM who provide it.\n",
        "\n",
        "*   So if someone wants to open a restaurant in BTM which is already the most popular residential and have large portion of restaurants....they should provide Booking table facility.\n",
        "\n"
      ],
      "metadata": {
        "id": "VqaG7R7GlFGe"
      }
    },
    {
      "cell_type": "markdown",
      "source": [
        "## Quality Over Quantity"
      ],
      "metadata": {
        "id": "0eYRAma7PC5E"
      }
    },
    {
      "cell_type": "code",
      "source": [
        "# Biggest Restaurant Chain and Best Restaurant Chain\n",
        "plt.rcParams['figure.figsize'] = 14,7\n",
        "plt.subplot(1,2,1)\n",
        "df.name.value_counts().head().plot(kind = \"barh\", color = sns.color_palette(\"hls\", 5))\n",
        "plt.xlabel(\"Number of restaurants\")\n",
        "plt.title(\"Biggest Restaurant Chain (Top 5)\")\n",
        "\n",
        "plt.subplot(1,2,2)\n",
        "df[df['rate']>=4.5]['name'].value_counts().nlargest(5).plot(kind = \"barh\", color = sns.color_palette(\"Paired\"))\n",
        "plt.xlabel(\"Number of restaurants\")\n",
        "plt.title(\"Best Restaurant Chain (Top 5) - Rating More than 4.5\")\n",
        "plt.tight_layout()"
      ],
      "metadata": {
        "id": "UBiEzmnz42Mk",
        "colab": {
          "base_uri": "https://localhost:8080/",
          "height": 513
        },
        "outputId": "6fb94e8b-d193-474c-f098-c620010fc7b8"
      },
      "execution_count": null,
      "outputs": [
        {
          "output_type": "display_data",
          "data": {
            "image/png": "[encoded data removed]",
            "text/plain": [
              "<Figure size 1008x504 with 2 Axes>"
            ]
          },
          "metadata": {}
        }
      ]
    },
    {
      "cell_type": "markdown",
      "source": [
        "### Cafe Coffee Day chain has over 80 cafes across the city that are listed in Zomato. On the other hand, Truffles – a burger chain has the best fast food restaurants (rating more than 4.5) which comes 1st in top 5 restaurants, So it perfectly defines our heading **quality over quantity**.\n",
        "\n",
        "### So next time when you visit Bangalore or if you want to check out a good restaurant over a weekend don’t forget to try the food at Truffles, Hammered and Mainland China.\n",
        "\n"
      ],
      "metadata": {
        "id": "KQZbUVXu5JpW"
      }
    },
    {
      "cell_type": "markdown",
      "source": [
        "# **CONCLUSION**"
      ],
      "metadata": {
        "id": "8irSy7DeorLC"
      }
    },
    {
      "cell_type": "markdown",
      "source": [
        "In this project, we have learnt how to utilize matplotlib , pandas and seaborn  libraries to perform Exploratory Data Analysis on datasets & to create beautiful visualization for exploring the relationship between the variables"
      ],
      "metadata": {
        "id": "hyWGCLS6ovY3"
      }
    },
    {
      "cell_type": "markdown",
      "source": [
        "# **❄  ❄  ❄  THANKYOU  ❄  ❄  ❄**\n",
        "\n",
        "\n",
        "---\n",
        "\n",
        "\n"
      ],
      "metadata": {
        "id": "m8IOvPFK5NgS"
      }
    }
  ]
}
